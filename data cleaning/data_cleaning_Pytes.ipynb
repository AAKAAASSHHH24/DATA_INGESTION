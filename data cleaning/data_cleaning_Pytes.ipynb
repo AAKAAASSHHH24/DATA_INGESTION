{
  "nbformat": 4,
  "nbformat_minor": 0,
  "metadata": {
    "colab": {
      "provenance": []
    },
    "kernelspec": {
      "name": "python3",
      "display_name": "Python 3"
    },
    "language_info": {
      "name": "python"
    }
  },
  "cells": [
    {
      "cell_type": "code",
      "execution_count": 1,
      "metadata": {
        "id": "sR4y8UHQlwxJ"
      },
      "outputs": [],
      "source": [
        "import pandas as pd\n",
        "df_from_excel = pd.read_excel('/content/Pytes.xlsx')"
      ]
    },
    {
      "cell_type": "code",
      "source": [
        "df_from_excel"
      ],
      "metadata": {
        "colab": {
          "base_uri": "https://localhost:8080/",
          "height": 394
        },
        "id": "0t5R5TbYnsSf",
        "outputId": "676c415c-ec9f-4405-b2fc-48067cfb24d3"
      },
      "execution_count": 2,
      "outputs": [
        {
          "output_type": "execute_result",
          "data": {
            "text/plain": [
              "    Unnamed: 0                 Item  \\\n",
              "0            0         E-BOX-48100R   \n",
              "1            1           Forrest RB   \n",
              "2            2          R Box IP 64   \n",
              "3            3                R Box   \n",
              "4            4    Communication Hub   \n",
              "5            5      Power Cable Set   \n",
              "6            6  Communication cable   \n",
              "7            7              Bus Bar   \n",
              "8            8      Battery Bracket   \n",
              "9            9     Sol Ark Inverter   \n",
              "10          10     Sol Ark Inverter   \n",
              "\n",
              "                                          Description  Price  \n",
              "0   LFP battery packVoltage: 51.2VCapacity: 100AhE...   2000  \n",
              "1                    Indoor cabinet designed to hold     818  \n",
              "2   2pcs E-box-481ooR, can mount on wall, also can...    499  \n",
              "3   2pcs E-box-48100R, can mount on wall, also can...    299  \n",
              "4   pc can support 56 pcs total 280KWHbatteries co...    450  \n",
              "5   2m long cable set from battery to charger/load...     50  \n",
              "6   communicaiton cable between  bettery and charg...      5  \n",
              "7                                     300A, 2pcs/pair    100  \n",
              "8   brackets set for E-Box-48100R, one pair includ...     50  \n",
              "9                3P10-Year Standard Warranty, NEMA-3R   6050  \n",
              "10  (SA-Limitless-15K) - Sol-Ark 15K\\n120/240/208V...   7200  "
            ],
            "text/html": [
              "\n",
              "  <div id=\"df-5c7e3666-f7cb-4562-aefe-8fca7855dc1c\" class=\"colab-df-container\">\n",
              "    <div>\n",
              "<style scoped>\n",
              "    .dataframe tbody tr th:only-of-type {\n",
              "        vertical-align: middle;\n",
              "    }\n",
              "\n",
              "    .dataframe tbody tr th {\n",
              "        vertical-align: top;\n",
              "    }\n",
              "\n",
              "    .dataframe thead th {\n",
              "        text-align: right;\n",
              "    }\n",
              "</style>\n",
              "<table border=\"1\" class=\"dataframe\">\n",
              "  <thead>\n",
              "    <tr style=\"text-align: right;\">\n",
              "      <th></th>\n",
              "      <th>Unnamed: 0</th>\n",
              "      <th>Item</th>\n",
              "      <th>Description</th>\n",
              "      <th>Price</th>\n",
              "    </tr>\n",
              "  </thead>\n",
              "  <tbody>\n",
              "    <tr>\n",
              "      <th>0</th>\n",
              "      <td>0</td>\n",
              "      <td>E-BOX-48100R</td>\n",
              "      <td>LFP battery packVoltage: 51.2VCapacity: 100AhE...</td>\n",
              "      <td>2000</td>\n",
              "    </tr>\n",
              "    <tr>\n",
              "      <th>1</th>\n",
              "      <td>1</td>\n",
              "      <td>Forrest RB</td>\n",
              "      <td>Indoor cabinet designed to hold</td>\n",
              "      <td>818</td>\n",
              "    </tr>\n",
              "    <tr>\n",
              "      <th>2</th>\n",
              "      <td>2</td>\n",
              "      <td>R Box IP 64</td>\n",
              "      <td>2pcs E-box-481ooR, can mount on wall, also can...</td>\n",
              "      <td>499</td>\n",
              "    </tr>\n",
              "    <tr>\n",
              "      <th>3</th>\n",
              "      <td>3</td>\n",
              "      <td>R Box</td>\n",
              "      <td>2pcs E-box-48100R, can mount on wall, also can...</td>\n",
              "      <td>299</td>\n",
              "    </tr>\n",
              "    <tr>\n",
              "      <th>4</th>\n",
              "      <td>4</td>\n",
              "      <td>Communication Hub</td>\n",
              "      <td>pc can support 56 pcs total 280KWHbatteries co...</td>\n",
              "      <td>450</td>\n",
              "    </tr>\n",
              "    <tr>\n",
              "      <th>5</th>\n",
              "      <td>5</td>\n",
              "      <td>Power Cable Set</td>\n",
              "      <td>2m long cable set from battery to charger/load...</td>\n",
              "      <td>50</td>\n",
              "    </tr>\n",
              "    <tr>\n",
              "      <th>6</th>\n",
              "      <td>6</td>\n",
              "      <td>Communication cable</td>\n",
              "      <td>communicaiton cable between  bettery and charg...</td>\n",
              "      <td>5</td>\n",
              "    </tr>\n",
              "    <tr>\n",
              "      <th>7</th>\n",
              "      <td>7</td>\n",
              "      <td>Bus Bar</td>\n",
              "      <td>300A, 2pcs/pair</td>\n",
              "      <td>100</td>\n",
              "    </tr>\n",
              "    <tr>\n",
              "      <th>8</th>\n",
              "      <td>8</td>\n",
              "      <td>Battery Bracket</td>\n",
              "      <td>brackets set for E-Box-48100R, one pair includ...</td>\n",
              "      <td>50</td>\n",
              "    </tr>\n",
              "    <tr>\n",
              "      <th>9</th>\n",
              "      <td>9</td>\n",
              "      <td>Sol Ark Inverter</td>\n",
              "      <td>3P10-Year Standard Warranty, NEMA-3R</td>\n",
              "      <td>6050</td>\n",
              "    </tr>\n",
              "    <tr>\n",
              "      <th>10</th>\n",
              "      <td>10</td>\n",
              "      <td>Sol Ark Inverter</td>\n",
              "      <td>(SA-Limitless-15K) - Sol-Ark 15K\\n120/240/208V...</td>\n",
              "      <td>7200</td>\n",
              "    </tr>\n",
              "  </tbody>\n",
              "</table>\n",
              "</div>\n",
              "    <div class=\"colab-df-buttons\">\n",
              "\n",
              "  <div class=\"colab-df-container\">\n",
              "    <button class=\"colab-df-convert\" onclick=\"convertToInteractive('df-5c7e3666-f7cb-4562-aefe-8fca7855dc1c')\"\n",
              "            title=\"Convert this dataframe to an interactive table.\"\n",
              "            style=\"display:none;\">\n",
              "\n",
              "  <svg xmlns=\"http://www.w3.org/2000/svg\" height=\"24px\" viewBox=\"0 -960 960 960\">\n",
              "    <path d=\"M120-120v-720h720v720H120Zm60-500h600v-160H180v160Zm220 220h160v-160H400v160Zm0 220h160v-160H400v160ZM180-400h160v-160H180v160Zm440 0h160v-160H620v160ZM180-180h160v-160H180v160Zm440 0h160v-160H620v160Z\"/>\n",
              "  </svg>\n",
              "    </button>\n",
              "\n",
              "  <style>\n",
              "    .colab-df-container {\n",
              "      display:flex;\n",
              "      gap: 12px;\n",
              "    }\n",
              "\n",
              "    .colab-df-convert {\n",
              "      background-color: #E8F0FE;\n",
              "      border: none;\n",
              "      border-radius: 50%;\n",
              "      cursor: pointer;\n",
              "      display: none;\n",
              "      fill: #1967D2;\n",
              "      height: 32px;\n",
              "      padding: 0 0 0 0;\n",
              "      width: 32px;\n",
              "    }\n",
              "\n",
              "    .colab-df-convert:hover {\n",
              "      background-color: #E2EBFA;\n",
              "      box-shadow: 0px 1px 2px rgba(60, 64, 67, 0.3), 0px 1px 3px 1px rgba(60, 64, 67, 0.15);\n",
              "      fill: #174EA6;\n",
              "    }\n",
              "\n",
              "    .colab-df-buttons div {\n",
              "      margin-bottom: 4px;\n",
              "    }\n",
              "\n",
              "    [theme=dark] .colab-df-convert {\n",
              "      background-color: #3B4455;\n",
              "      fill: #D2E3FC;\n",
              "    }\n",
              "\n",
              "    [theme=dark] .colab-df-convert:hover {\n",
              "      background-color: #434B5C;\n",
              "      box-shadow: 0px 1px 3px 1px rgba(0, 0, 0, 0.15);\n",
              "      filter: drop-shadow(0px 1px 2px rgba(0, 0, 0, 0.3));\n",
              "      fill: #FFFFFF;\n",
              "    }\n",
              "  </style>\n",
              "\n",
              "    <script>\n",
              "      const buttonEl =\n",
              "        document.querySelector('#df-5c7e3666-f7cb-4562-aefe-8fca7855dc1c button.colab-df-convert');\n",
              "      buttonEl.style.display =\n",
              "        google.colab.kernel.accessAllowed ? 'block' : 'none';\n",
              "\n",
              "      async function convertToInteractive(key) {\n",
              "        const element = document.querySelector('#df-5c7e3666-f7cb-4562-aefe-8fca7855dc1c');\n",
              "        const dataTable =\n",
              "          await google.colab.kernel.invokeFunction('convertToInteractive',\n",
              "                                                    [key], {});\n",
              "        if (!dataTable) return;\n",
              "\n",
              "        const docLinkHtml = 'Like what you see? Visit the ' +\n",
              "          '<a target=\"_blank\" href=https://colab.research.google.com/notebooks/data_table.ipynb>data table notebook</a>'\n",
              "          + ' to learn more about interactive tables.';\n",
              "        element.innerHTML = '';\n",
              "        dataTable['output_type'] = 'display_data';\n",
              "        await google.colab.output.renderOutput(dataTable, element);\n",
              "        const docLink = document.createElement('div');\n",
              "        docLink.innerHTML = docLinkHtml;\n",
              "        element.appendChild(docLink);\n",
              "      }\n",
              "    </script>\n",
              "  </div>\n",
              "\n",
              "\n",
              "<div id=\"df-c43e4e97-5de0-4486-aa50-b4af630a6cc4\">\n",
              "  <button class=\"colab-df-quickchart\" onclick=\"quickchart('df-c43e4e97-5de0-4486-aa50-b4af630a6cc4')\"\n",
              "            title=\"Suggest charts.\"\n",
              "            style=\"display:none;\">\n",
              "\n",
              "<svg xmlns=\"http://www.w3.org/2000/svg\" height=\"24px\"viewBox=\"0 0 24 24\"\n",
              "     width=\"24px\">\n",
              "    <g>\n",
              "        <path d=\"M19 3H5c-1.1 0-2 .9-2 2v14c0 1.1.9 2 2 2h14c1.1 0 2-.9 2-2V5c0-1.1-.9-2-2-2zM9 17H7v-7h2v7zm4 0h-2V7h2v10zm4 0h-2v-4h2v4z\"/>\n",
              "    </g>\n",
              "</svg>\n",
              "  </button>\n",
              "\n",
              "<style>\n",
              "  .colab-df-quickchart {\n",
              "    background-color: #E8F0FE;\n",
              "    border: none;\n",
              "    border-radius: 50%;\n",
              "    cursor: pointer;\n",
              "    display: none;\n",
              "    fill: #1967D2;\n",
              "    height: 32px;\n",
              "    padding: 0 0 0 0;\n",
              "    width: 32px;\n",
              "  }\n",
              "\n",
              "  .colab-df-quickchart:hover {\n",
              "    background-color: #E2EBFA;\n",
              "    box-shadow: 0px 1px 2px rgba(60, 64, 67, 0.3), 0px 1px 3px 1px rgba(60, 64, 67, 0.15);\n",
              "    fill: #174EA6;\n",
              "  }\n",
              "\n",
              "  [theme=dark] .colab-df-quickchart {\n",
              "    background-color: #3B4455;\n",
              "    fill: #D2E3FC;\n",
              "  }\n",
              "\n",
              "  [theme=dark] .colab-df-quickchart:hover {\n",
              "    background-color: #434B5C;\n",
              "    box-shadow: 0px 1px 3px 1px rgba(0, 0, 0, 0.15);\n",
              "    filter: drop-shadow(0px 1px 2px rgba(0, 0, 0, 0.3));\n",
              "    fill: #FFFFFF;\n",
              "  }\n",
              "</style>\n",
              "\n",
              "  <script>\n",
              "    async function quickchart(key) {\n",
              "      const charts = await google.colab.kernel.invokeFunction(\n",
              "          'suggestCharts', [key], {});\n",
              "    }\n",
              "    (() => {\n",
              "      let quickchartButtonEl =\n",
              "        document.querySelector('#df-c43e4e97-5de0-4486-aa50-b4af630a6cc4 button');\n",
              "      quickchartButtonEl.style.display =\n",
              "        google.colab.kernel.accessAllowed ? 'block' : 'none';\n",
              "    })();\n",
              "  </script>\n",
              "</div>\n",
              "    </div>\n",
              "  </div>\n"
            ]
          },
          "metadata": {},
          "execution_count": 2
        }
      ]
    },
    {
      "cell_type": "code",
      "source": [
        "df_from_excel.columns"
      ],
      "metadata": {
        "colab": {
          "base_uri": "https://localhost:8080/"
        },
        "id": "uS7YCoNnnmO3",
        "outputId": "c1b214d9-9414-4075-d0a5-961e1c3afe9e"
      },
      "execution_count": null,
      "outputs": [
        {
          "output_type": "execute_result",
          "data": {
            "text/plain": [
              "Index(['Model', 'Details', 'Unit Price'], dtype='object')"
            ]
          },
          "metadata": {},
          "execution_count": 3
        }
      ]
    },
    {
      "cell_type": "code",
      "source": [
        "df_from_excel.isna().sum()"
      ],
      "metadata": {
        "colab": {
          "base_uri": "https://localhost:8080/"
        },
        "id": "mP8ovLkDnpM3",
        "outputId": "dcd5f54a-e058-49dc-a57c-a5e2f8bde17f"
      },
      "execution_count": 3,
      "outputs": [
        {
          "output_type": "execute_result",
          "data": {
            "text/plain": [
              "Unnamed: 0     0\n",
              "Item           0\n",
              "Description    0\n",
              "Price          0\n",
              "dtype: int64"
            ]
          },
          "metadata": {},
          "execution_count": 3
        }
      ]
    },
    {
      "cell_type": "code",
      "source": [
        "# Create a dictionary to map old column names to new column names\n",
        "column_mapping = {'Model': 'Item', 'Details': 'Description', 'Unit Price':'Price'}\n",
        "\n",
        "# Rename columns using the dictionary\n",
        "df_from_excel = df_from_excel.rename(columns=column_mapping)"
      ],
      "metadata": {
        "id": "2vIUzDmFISvL"
      },
      "execution_count": null,
      "outputs": []
    },
    {
      "cell_type": "code",
      "source": [
        "df_from_excel.columns"
      ],
      "metadata": {
        "colab": {
          "base_uri": "https://localhost:8080/"
        },
        "id": "TfKOxlP9Ivwl",
        "outputId": "47f6c57e-f313-4fd5-96f4-8bbe7e36db6c"
      },
      "execution_count": null,
      "outputs": [
        {
          "output_type": "execute_result",
          "data": {
            "text/plain": [
              "Index(['Item', 'Description', 'Price'], dtype='object')"
            ]
          },
          "metadata": {},
          "execution_count": 6
        }
      ]
    },
    {
      "cell_type": "code",
      "source": [
        "# Remove commas and convert to float\n",
        "for index, row in df_from_excel.iterrows():\n",
        "    if ',' in row['Price']:\n",
        "      df_from_excel.at[index, 'Price'] = row['Price'].replace(',', '')\n",
        "    if 'US$' in row['Price']:\n",
        "      df_from_excel.at[index, 'Price'] = row['Price'].replace('US$', '')\n",
        "    else:\n",
        "      continue"
      ],
      "metadata": {
        "id": "lylmvy-BRApG"
      },
      "execution_count": null,
      "outputs": []
    },
    {
      "cell_type": "code",
      "source": [
        "#df_from_excel['Price'] = df_from_excel['Price'].astype(float)\n",
        "df_from_excel['Price'] = df_from_excel['Price'].astype(str)"
      ],
      "metadata": {
        "id": "LFvz4PgvJUkh"
      },
      "execution_count": null,
      "outputs": []
    },
    {
      "cell_type": "code",
      "source": [
        "df_from_excel['Availability'] = 'No information about availability. Please verify'"
      ],
      "metadata": {
        "id": "AysyNplmmS6L"
      },
      "execution_count": 4,
      "outputs": []
    },
    {
      "cell_type": "code",
      "source": [
        "df_from_excel.drop(columns= ['Unnamed: 0'],inplace = True)"
      ],
      "metadata": {
        "id": "yMeR0ZpWKTqw"
      },
      "execution_count": 6,
      "outputs": []
    },
    {
      "cell_type": "code",
      "source": [
        "df_from_excel.isna().sum()"
      ],
      "metadata": {
        "colab": {
          "base_uri": "https://localhost:8080/"
        },
        "id": "0VuE-mjoKQ15",
        "outputId": "d718c55b-eb00-4067-9d62-81364c9e0836"
      },
      "execution_count": 10,
      "outputs": [
        {
          "output_type": "execute_result",
          "data": {
            "text/plain": [
              "Item            0\n",
              "Description     0\n",
              "Price           0\n",
              "Availability    0\n",
              "dtype: int64"
            ]
          },
          "metadata": {},
          "execution_count": 10
        }
      ]
    },
    {
      "cell_type": "code",
      "source": [
        "#saving the table as csv\n",
        "df_from_excel.to_excel(\"/content/drive/MyDrive/projects/greentech/Pytes.xlsx\")"
      ],
      "metadata": {
        "id": "DK2QuiHTyQdg"
      },
      "execution_count": 9,
      "outputs": []
    },
    {
      "cell_type": "code",
      "source": [
        "from google.colab import drive\n",
        "drive.mount('/content/drive')"
      ],
      "metadata": {
        "colab": {
          "base_uri": "https://localhost:8080/"
        },
        "id": "PRG5Z0Gom1J3",
        "outputId": "56820d1c-9d7e-4d47-a698-4be9a13ac9e8"
      },
      "execution_count": 8,
      "outputs": [
        {
          "output_type": "stream",
          "name": "stdout",
          "text": [
            "Mounted at /content/drive\n"
          ]
        }
      ]
    },
    {
      "cell_type": "code",
      "source": [],
      "metadata": {
        "id": "3IF9EFUPm19j"
      },
      "execution_count": null,
      "outputs": []
    }
  ]
}