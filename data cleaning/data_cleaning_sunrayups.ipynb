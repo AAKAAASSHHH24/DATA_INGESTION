{
  "nbformat": 4,
  "nbformat_minor": 0,
  "metadata": {
    "colab": {
      "provenance": []
    },
    "kernelspec": {
      "name": "python3",
      "display_name": "Python 3"
    },
    "language_info": {
      "name": "python"
    }
  },
  "cells": [
    {
      "cell_type": "code",
      "execution_count": 1,
      "metadata": {
        "id": "sR4y8UHQlwxJ"
      },
      "outputs": [],
      "source": [
        "import pandas as pd\n",
        "df_from_excel = pd.read_excel('/content/sunrayups.xlsx')"
      ]
    },
    {
      "cell_type": "code",
      "source": [
        "df_from_excel"
      ],
      "metadata": {
        "colab": {
          "base_uri": "https://localhost:8080/",
          "height": 394
        },
        "id": "0t5R5TbYnsSf",
        "outputId": "b4418ef5-116b-4500-8790-0a4dbbbba578"
      },
      "execution_count": null,
      "outputs": [
        {
          "output_type": "execute_result",
          "data": {
            "text/plain": [
              "            ITEM         DESCRIPTION Unnamed: 2 Unnamed: 3 Unnamed: 4  \\\n",
              "0       MPS-VIII      MPS-VIII 3600W      3.6KW       MPPT       230V   \n",
              "1            NaN      MPS-VIII 4200W      4.2KW       MPPT       230V   \n",
              "2            NaN      MPS-VIII 6200W      6.2KW       MPPT       230V   \n",
              "3   MPS-VIII PRO  MPS-VIII 3600W PRO      3.6KW       MPPT       230V   \n",
              "4            NaN  MPS-VIII 4200W PRO      4.2KW       MPPT       230V   \n",
              "5            NaN  MPS-VIII 6200W PRO      6.2KW       MPPT       230V   \n",
              "6   MPS-VIII ECO  MPS-VIII ECO 3.6KW      3.6KW       MPPT       230V   \n",
              "7            NaN  MPS-VIII ECO 6.2KW      6.2KW       MPPT       230V   \n",
              "8      MPS-V MAX     MPS-V MAX 7.2KW      7.2KW       MPPT       230V   \n",
              "9            NaN     MPS-V MAX 8.2KW      8.2KW       MPPT       230V   \n",
              "10           NaN    MPS-V MAX 10.2KW     10.2KW       MPPT       230V   \n",
              "\n",
              "   Unnamed: 5      PRICE  \n",
              "0         24V  US$216.00  \n",
              "1         24V  US$221.00  \n",
              "2         48V  US$265.00  \n",
              "3         24V  US$223.00  \n",
              "4         24V  US$227.00  \n",
              "5         48V  US$272.00  \n",
              "6         24   US$165.00  \n",
              "7         48V  US$192.00  \n",
              "8         48V  US$321.00  \n",
              "9         48V  US$364.00  \n",
              "10        48V  US$391.00  "
            ],
            "text/html": [
              "\n",
              "  <div id=\"df-c42015c5-7a08-4b79-9883-138b6e2b444a\" class=\"colab-df-container\">\n",
              "    <div>\n",
              "<style scoped>\n",
              "    .dataframe tbody tr th:only-of-type {\n",
              "        vertical-align: middle;\n",
              "    }\n",
              "\n",
              "    .dataframe tbody tr th {\n",
              "        vertical-align: top;\n",
              "    }\n",
              "\n",
              "    .dataframe thead th {\n",
              "        text-align: right;\n",
              "    }\n",
              "</style>\n",
              "<table border=\"1\" class=\"dataframe\">\n",
              "  <thead>\n",
              "    <tr style=\"text-align: right;\">\n",
              "      <th></th>\n",
              "      <th>ITEM</th>\n",
              "      <th>DESCRIPTION</th>\n",
              "      <th>Unnamed: 2</th>\n",
              "      <th>Unnamed: 3</th>\n",
              "      <th>Unnamed: 4</th>\n",
              "      <th>Unnamed: 5</th>\n",
              "      <th>PRICE</th>\n",
              "    </tr>\n",
              "  </thead>\n",
              "  <tbody>\n",
              "    <tr>\n",
              "      <th>0</th>\n",
              "      <td>MPS-VIII</td>\n",
              "      <td>MPS-VIII 3600W</td>\n",
              "      <td>3.6KW</td>\n",
              "      <td>MPPT</td>\n",
              "      <td>230V</td>\n",
              "      <td>24V</td>\n",
              "      <td>US$216.00</td>\n",
              "    </tr>\n",
              "    <tr>\n",
              "      <th>1</th>\n",
              "      <td>NaN</td>\n",
              "      <td>MPS-VIII 4200W</td>\n",
              "      <td>4.2KW</td>\n",
              "      <td>MPPT</td>\n",
              "      <td>230V</td>\n",
              "      <td>24V</td>\n",
              "      <td>US$221.00</td>\n",
              "    </tr>\n",
              "    <tr>\n",
              "      <th>2</th>\n",
              "      <td>NaN</td>\n",
              "      <td>MPS-VIII 6200W</td>\n",
              "      <td>6.2KW</td>\n",
              "      <td>MPPT</td>\n",
              "      <td>230V</td>\n",
              "      <td>48V</td>\n",
              "      <td>US$265.00</td>\n",
              "    </tr>\n",
              "    <tr>\n",
              "      <th>3</th>\n",
              "      <td>MPS-VIII PRO</td>\n",
              "      <td>MPS-VIII 3600W PRO</td>\n",
              "      <td>3.6KW</td>\n",
              "      <td>MPPT</td>\n",
              "      <td>230V</td>\n",
              "      <td>24V</td>\n",
              "      <td>US$223.00</td>\n",
              "    </tr>\n",
              "    <tr>\n",
              "      <th>4</th>\n",
              "      <td>NaN</td>\n",
              "      <td>MPS-VIII 4200W PRO</td>\n",
              "      <td>4.2KW</td>\n",
              "      <td>MPPT</td>\n",
              "      <td>230V</td>\n",
              "      <td>24V</td>\n",
              "      <td>US$227.00</td>\n",
              "    </tr>\n",
              "    <tr>\n",
              "      <th>5</th>\n",
              "      <td>NaN</td>\n",
              "      <td>MPS-VIII 6200W PRO</td>\n",
              "      <td>6.2KW</td>\n",
              "      <td>MPPT</td>\n",
              "      <td>230V</td>\n",
              "      <td>48V</td>\n",
              "      <td>US$272.00</td>\n",
              "    </tr>\n",
              "    <tr>\n",
              "      <th>6</th>\n",
              "      <td>MPS-VIII ECO</td>\n",
              "      <td>MPS-VIII ECO 3.6KW</td>\n",
              "      <td>3.6KW</td>\n",
              "      <td>MPPT</td>\n",
              "      <td>230V</td>\n",
              "      <td>24</td>\n",
              "      <td>US$165.00</td>\n",
              "    </tr>\n",
              "    <tr>\n",
              "      <th>7</th>\n",
              "      <td>NaN</td>\n",
              "      <td>MPS-VIII ECO 6.2KW</td>\n",
              "      <td>6.2KW</td>\n",
              "      <td>MPPT</td>\n",
              "      <td>230V</td>\n",
              "      <td>48V</td>\n",
              "      <td>US$192.00</td>\n",
              "    </tr>\n",
              "    <tr>\n",
              "      <th>8</th>\n",
              "      <td>MPS-V MAX</td>\n",
              "      <td>MPS-V MAX 7.2KW</td>\n",
              "      <td>7.2KW</td>\n",
              "      <td>MPPT</td>\n",
              "      <td>230V</td>\n",
              "      <td>48V</td>\n",
              "      <td>US$321.00</td>\n",
              "    </tr>\n",
              "    <tr>\n",
              "      <th>9</th>\n",
              "      <td>NaN</td>\n",
              "      <td>MPS-V MAX 8.2KW</td>\n",
              "      <td>8.2KW</td>\n",
              "      <td>MPPT</td>\n",
              "      <td>230V</td>\n",
              "      <td>48V</td>\n",
              "      <td>US$364.00</td>\n",
              "    </tr>\n",
              "    <tr>\n",
              "      <th>10</th>\n",
              "      <td>NaN</td>\n",
              "      <td>MPS-V MAX 10.2KW</td>\n",
              "      <td>10.2KW</td>\n",
              "      <td>MPPT</td>\n",
              "      <td>230V</td>\n",
              "      <td>48V</td>\n",
              "      <td>US$391.00</td>\n",
              "    </tr>\n",
              "  </tbody>\n",
              "</table>\n",
              "</div>\n",
              "    <div class=\"colab-df-buttons\">\n",
              "\n",
              "  <div class=\"colab-df-container\">\n",
              "    <button class=\"colab-df-convert\" onclick=\"convertToInteractive('df-c42015c5-7a08-4b79-9883-138b6e2b444a')\"\n",
              "            title=\"Convert this dataframe to an interactive table.\"\n",
              "            style=\"display:none;\">\n",
              "\n",
              "  <svg xmlns=\"http://www.w3.org/2000/svg\" height=\"24px\" viewBox=\"0 -960 960 960\">\n",
              "    <path d=\"M120-120v-720h720v720H120Zm60-500h600v-160H180v160Zm220 220h160v-160H400v160Zm0 220h160v-160H400v160ZM180-400h160v-160H180v160Zm440 0h160v-160H620v160ZM180-180h160v-160H180v160Zm440 0h160v-160H620v160Z\"/>\n",
              "  </svg>\n",
              "    </button>\n",
              "\n",
              "  <style>\n",
              "    .colab-df-container {\n",
              "      display:flex;\n",
              "      gap: 12px;\n",
              "    }\n",
              "\n",
              "    .colab-df-convert {\n",
              "      background-color: #E8F0FE;\n",
              "      border: none;\n",
              "      border-radius: 50%;\n",
              "      cursor: pointer;\n",
              "      display: none;\n",
              "      fill: #1967D2;\n",
              "      height: 32px;\n",
              "      padding: 0 0 0 0;\n",
              "      width: 32px;\n",
              "    }\n",
              "\n",
              "    .colab-df-convert:hover {\n",
              "      background-color: #E2EBFA;\n",
              "      box-shadow: 0px 1px 2px rgba(60, 64, 67, 0.3), 0px 1px 3px 1px rgba(60, 64, 67, 0.15);\n",
              "      fill: #174EA6;\n",
              "    }\n",
              "\n",
              "    .colab-df-buttons div {\n",
              "      margin-bottom: 4px;\n",
              "    }\n",
              "\n",
              "    [theme=dark] .colab-df-convert {\n",
              "      background-color: #3B4455;\n",
              "      fill: #D2E3FC;\n",
              "    }\n",
              "\n",
              "    [theme=dark] .colab-df-convert:hover {\n",
              "      background-color: #434B5C;\n",
              "      box-shadow: 0px 1px 3px 1px rgba(0, 0, 0, 0.15);\n",
              "      filter: drop-shadow(0px 1px 2px rgba(0, 0, 0, 0.3));\n",
              "      fill: #FFFFFF;\n",
              "    }\n",
              "  </style>\n",
              "\n",
              "    <script>\n",
              "      const buttonEl =\n",
              "        document.querySelector('#df-c42015c5-7a08-4b79-9883-138b6e2b444a button.colab-df-convert');\n",
              "      buttonEl.style.display =\n",
              "        google.colab.kernel.accessAllowed ? 'block' : 'none';\n",
              "\n",
              "      async function convertToInteractive(key) {\n",
              "        const element = document.querySelector('#df-c42015c5-7a08-4b79-9883-138b6e2b444a');\n",
              "        const dataTable =\n",
              "          await google.colab.kernel.invokeFunction('convertToInteractive',\n",
              "                                                    [key], {});\n",
              "        if (!dataTable) return;\n",
              "\n",
              "        const docLinkHtml = 'Like what you see? Visit the ' +\n",
              "          '<a target=\"_blank\" href=https://colab.research.google.com/notebooks/data_table.ipynb>data table notebook</a>'\n",
              "          + ' to learn more about interactive tables.';\n",
              "        element.innerHTML = '';\n",
              "        dataTable['output_type'] = 'display_data';\n",
              "        await google.colab.output.renderOutput(dataTable, element);\n",
              "        const docLink = document.createElement('div');\n",
              "        docLink.innerHTML = docLinkHtml;\n",
              "        element.appendChild(docLink);\n",
              "      }\n",
              "    </script>\n",
              "  </div>\n",
              "\n",
              "\n",
              "<div id=\"df-b3113771-b1a2-49e3-aaef-64ed547a28a4\">\n",
              "  <button class=\"colab-df-quickchart\" onclick=\"quickchart('df-b3113771-b1a2-49e3-aaef-64ed547a28a4')\"\n",
              "            title=\"Suggest charts.\"\n",
              "            style=\"display:none;\">\n",
              "\n",
              "<svg xmlns=\"http://www.w3.org/2000/svg\" height=\"24px\"viewBox=\"0 0 24 24\"\n",
              "     width=\"24px\">\n",
              "    <g>\n",
              "        <path d=\"M19 3H5c-1.1 0-2 .9-2 2v14c0 1.1.9 2 2 2h14c1.1 0 2-.9 2-2V5c0-1.1-.9-2-2-2zM9 17H7v-7h2v7zm4 0h-2V7h2v10zm4 0h-2v-4h2v4z\"/>\n",
              "    </g>\n",
              "</svg>\n",
              "  </button>\n",
              "\n",
              "<style>\n",
              "  .colab-df-quickchart {\n",
              "    background-color: #E8F0FE;\n",
              "    border: none;\n",
              "    border-radius: 50%;\n",
              "    cursor: pointer;\n",
              "    display: none;\n",
              "    fill: #1967D2;\n",
              "    height: 32px;\n",
              "    padding: 0 0 0 0;\n",
              "    width: 32px;\n",
              "  }\n",
              "\n",
              "  .colab-df-quickchart:hover {\n",
              "    background-color: #E2EBFA;\n",
              "    box-shadow: 0px 1px 2px rgba(60, 64, 67, 0.3), 0px 1px 3px 1px rgba(60, 64, 67, 0.15);\n",
              "    fill: #174EA6;\n",
              "  }\n",
              "\n",
              "  [theme=dark] .colab-df-quickchart {\n",
              "    background-color: #3B4455;\n",
              "    fill: #D2E3FC;\n",
              "  }\n",
              "\n",
              "  [theme=dark] .colab-df-quickchart:hover {\n",
              "    background-color: #434B5C;\n",
              "    box-shadow: 0px 1px 3px 1px rgba(0, 0, 0, 0.15);\n",
              "    filter: drop-shadow(0px 1px 2px rgba(0, 0, 0, 0.3));\n",
              "    fill: #FFFFFF;\n",
              "  }\n",
              "</style>\n",
              "\n",
              "  <script>\n",
              "    async function quickchart(key) {\n",
              "      const charts = await google.colab.kernel.invokeFunction(\n",
              "          'suggestCharts', [key], {});\n",
              "    }\n",
              "    (() => {\n",
              "      let quickchartButtonEl =\n",
              "        document.querySelector('#df-b3113771-b1a2-49e3-aaef-64ed547a28a4 button');\n",
              "      quickchartButtonEl.style.display =\n",
              "        google.colab.kernel.accessAllowed ? 'block' : 'none';\n",
              "    })();\n",
              "  </script>\n",
              "</div>\n",
              "    </div>\n",
              "  </div>\n"
            ]
          },
          "metadata": {},
          "execution_count": 43
        }
      ]
    },
    {
      "cell_type": "code",
      "source": [
        "df_from_excel.info()"
      ],
      "metadata": {
        "colab": {
          "base_uri": "https://localhost:8080/"
        },
        "id": "Q42CNoweLdcx",
        "outputId": "9f956f6f-9ed8-4f79-dfdf-40d561ed3522"
      },
      "execution_count": null,
      "outputs": [
        {
          "output_type": "stream",
          "name": "stdout",
          "text": [
            "<class 'pandas.core.frame.DataFrame'>\n",
            "RangeIndex: 11 entries, 0 to 10\n",
            "Data columns (total 7 columns):\n",
            " #   Column       Non-Null Count  Dtype \n",
            "---  ------       --------------  ----- \n",
            " 0   ITEM         4 non-null      object\n",
            " 1   DESCRIPTION  11 non-null     object\n",
            " 2   Unnamed: 2   11 non-null     object\n",
            " 3   Unnamed: 3   11 non-null     object\n",
            " 4   Unnamed: 4   11 non-null     object\n",
            " 5   Unnamed: 5   11 non-null     object\n",
            " 6   PRICE        11 non-null     object\n",
            "dtypes: object(7)\n",
            "memory usage: 744.0+ bytes\n"
          ]
        }
      ]
    },
    {
      "cell_type": "code",
      "source": [
        "df_from_excel.columns"
      ],
      "metadata": {
        "colab": {
          "base_uri": "https://localhost:8080/"
        },
        "id": "ppafOsY3OHwk",
        "outputId": "acb054e9-806d-459d-c898-6bd20c33bea5"
      },
      "execution_count": null,
      "outputs": [
        {
          "output_type": "execute_result",
          "data": {
            "text/plain": [
              "Index(['ITEM', 'DESCRIPTION', 'Unnamed: 2', 'Unnamed: 3', 'Unnamed: 4',\n",
              "       'Unnamed: 5', 'PRICE'],\n",
              "      dtype='object')"
            ]
          },
          "metadata": {},
          "execution_count": 46
        }
      ]
    },
    {
      "cell_type": "code",
      "source": [
        "df_from_excel.isna().sum()"
      ],
      "metadata": {
        "colab": {
          "base_uri": "https://localhost:8080/"
        },
        "id": "dpYw1b4HM1_-",
        "outputId": "d178ec81-a4cb-47e4-8664-ba790d8c78a1"
      },
      "execution_count": null,
      "outputs": [
        {
          "output_type": "execute_result",
          "data": {
            "text/plain": [
              "ITEM           7\n",
              "DESCRIPTION    0\n",
              "Unnamed: 2     0\n",
              "Unnamed: 3     0\n",
              "Unnamed: 4     0\n",
              "Unnamed: 5     0\n",
              "PRICE          0\n",
              "dtype: int64"
            ]
          },
          "metadata": {},
          "execution_count": 47
        }
      ]
    },
    {
      "cell_type": "code",
      "source": [
        "df_from_excel['DESCRIPTION'] = df_from_excel['DESCRIPTION']+\" \"+ df_from_excel['Unnamed: 2']+ \" \"+ df_from_excel['Unnamed: 3']+ \" \" + df_from_excel['Unnamed: 4']+ \" \"+ df_from_excel['Unnamed: 5']"
      ],
      "metadata": {
        "id": "gxupT2TiaZOV"
      },
      "execution_count": null,
      "outputs": []
    },
    {
      "cell_type": "code",
      "source": [
        "df_from_excel.drop(columns = ['Unnamed: 2', 'Unnamed: 3', 'Unnamed: 4',\n",
        "       'Unnamed: 5'], inplace = True)"
      ],
      "metadata": {
        "id": "-aajfZpoUixp"
      },
      "execution_count": null,
      "outputs": []
    },
    {
      "cell_type": "code",
      "source": [
        "df_from_excel"
      ],
      "metadata": {
        "colab": {
          "base_uri": "https://localhost:8080/",
          "height": 394
        },
        "id": "k-wbqJc4Q9qm",
        "outputId": "f728e8c8-b400-4c21-e2da-3a507bcd0034"
      },
      "execution_count": null,
      "outputs": [
        {
          "output_type": "execute_result",
          "data": {
            "text/plain": [
              "            ITEM                             DESCRIPTION      PRICE\n",
              "0       MPS-VIII      MPS-VIII 3600W 3.6KW MPPT 230V 24V  US$216.00\n",
              "1            NaN      MPS-VIII 4200W 4.2KW MPPT 230V 24V  US$221.00\n",
              "2            NaN      MPS-VIII 6200W 6.2KW MPPT 230V 48V  US$265.00\n",
              "3   MPS-VIII PRO  MPS-VIII 3600W PRO 3.6KW MPPT 230V 24V  US$223.00\n",
              "4            NaN  MPS-VIII 4200W PRO 4.2KW MPPT 230V 24V  US$227.00\n",
              "5            NaN  MPS-VIII 6200W PRO 6.2KW MPPT 230V 48V  US$272.00\n",
              "6   MPS-VIII ECO  MPS-VIII ECO 3.6KW 3.6KW MPPT 230V 24   US$165.00\n",
              "7            NaN  MPS-VIII ECO 6.2KW 6.2KW MPPT 230V 48V  US$192.00\n",
              "8      MPS-V MAX     MPS-V MAX 7.2KW 7.2KW MPPT 230V 48V  US$321.00\n",
              "9            NaN     MPS-V MAX 8.2KW 8.2KW MPPT 230V 48V  US$364.00\n",
              "10           NaN   MPS-V MAX 10.2KW 10.2KW MPPT 230V 48V  US$391.00"
            ],
            "text/html": [
              "\n",
              "  <div id=\"df-060cec1d-5195-401c-a371-f45b5cb9ec42\" class=\"colab-df-container\">\n",
              "    <div>\n",
              "<style scoped>\n",
              "    .dataframe tbody tr th:only-of-type {\n",
              "        vertical-align: middle;\n",
              "    }\n",
              "\n",
              "    .dataframe tbody tr th {\n",
              "        vertical-align: top;\n",
              "    }\n",
              "\n",
              "    .dataframe thead th {\n",
              "        text-align: right;\n",
              "    }\n",
              "</style>\n",
              "<table border=\"1\" class=\"dataframe\">\n",
              "  <thead>\n",
              "    <tr style=\"text-align: right;\">\n",
              "      <th></th>\n",
              "      <th>ITEM</th>\n",
              "      <th>DESCRIPTION</th>\n",
              "      <th>PRICE</th>\n",
              "    </tr>\n",
              "  </thead>\n",
              "  <tbody>\n",
              "    <tr>\n",
              "      <th>0</th>\n",
              "      <td>MPS-VIII</td>\n",
              "      <td>MPS-VIII 3600W 3.6KW MPPT 230V 24V</td>\n",
              "      <td>US$216.00</td>\n",
              "    </tr>\n",
              "    <tr>\n",
              "      <th>1</th>\n",
              "      <td>NaN</td>\n",
              "      <td>MPS-VIII 4200W 4.2KW MPPT 230V 24V</td>\n",
              "      <td>US$221.00</td>\n",
              "    </tr>\n",
              "    <tr>\n",
              "      <th>2</th>\n",
              "      <td>NaN</td>\n",
              "      <td>MPS-VIII 6200W 6.2KW MPPT 230V 48V</td>\n",
              "      <td>US$265.00</td>\n",
              "    </tr>\n",
              "    <tr>\n",
              "      <th>3</th>\n",
              "      <td>MPS-VIII PRO</td>\n",
              "      <td>MPS-VIII 3600W PRO 3.6KW MPPT 230V 24V</td>\n",
              "      <td>US$223.00</td>\n",
              "    </tr>\n",
              "    <tr>\n",
              "      <th>4</th>\n",
              "      <td>NaN</td>\n",
              "      <td>MPS-VIII 4200W PRO 4.2KW MPPT 230V 24V</td>\n",
              "      <td>US$227.00</td>\n",
              "    </tr>\n",
              "    <tr>\n",
              "      <th>5</th>\n",
              "      <td>NaN</td>\n",
              "      <td>MPS-VIII 6200W PRO 6.2KW MPPT 230V 48V</td>\n",
              "      <td>US$272.00</td>\n",
              "    </tr>\n",
              "    <tr>\n",
              "      <th>6</th>\n",
              "      <td>MPS-VIII ECO</td>\n",
              "      <td>MPS-VIII ECO 3.6KW 3.6KW MPPT 230V 24</td>\n",
              "      <td>US$165.00</td>\n",
              "    </tr>\n",
              "    <tr>\n",
              "      <th>7</th>\n",
              "      <td>NaN</td>\n",
              "      <td>MPS-VIII ECO 6.2KW 6.2KW MPPT 230V 48V</td>\n",
              "      <td>US$192.00</td>\n",
              "    </tr>\n",
              "    <tr>\n",
              "      <th>8</th>\n",
              "      <td>MPS-V MAX</td>\n",
              "      <td>MPS-V MAX 7.2KW 7.2KW MPPT 230V 48V</td>\n",
              "      <td>US$321.00</td>\n",
              "    </tr>\n",
              "    <tr>\n",
              "      <th>9</th>\n",
              "      <td>NaN</td>\n",
              "      <td>MPS-V MAX 8.2KW 8.2KW MPPT 230V 48V</td>\n",
              "      <td>US$364.00</td>\n",
              "    </tr>\n",
              "    <tr>\n",
              "      <th>10</th>\n",
              "      <td>NaN</td>\n",
              "      <td>MPS-V MAX 10.2KW 10.2KW MPPT 230V 48V</td>\n",
              "      <td>US$391.00</td>\n",
              "    </tr>\n",
              "  </tbody>\n",
              "</table>\n",
              "</div>\n",
              "    <div class=\"colab-df-buttons\">\n",
              "\n",
              "  <div class=\"colab-df-container\">\n",
              "    <button class=\"colab-df-convert\" onclick=\"convertToInteractive('df-060cec1d-5195-401c-a371-f45b5cb9ec42')\"\n",
              "            title=\"Convert this dataframe to an interactive table.\"\n",
              "            style=\"display:none;\">\n",
              "\n",
              "  <svg xmlns=\"http://www.w3.org/2000/svg\" height=\"24px\" viewBox=\"0 -960 960 960\">\n",
              "    <path d=\"M120-120v-720h720v720H120Zm60-500h600v-160H180v160Zm220 220h160v-160H400v160Zm0 220h160v-160H400v160ZM180-400h160v-160H180v160Zm440 0h160v-160H620v160ZM180-180h160v-160H180v160Zm440 0h160v-160H620v160Z\"/>\n",
              "  </svg>\n",
              "    </button>\n",
              "\n",
              "  <style>\n",
              "    .colab-df-container {\n",
              "      display:flex;\n",
              "      gap: 12px;\n",
              "    }\n",
              "\n",
              "    .colab-df-convert {\n",
              "      background-color: #E8F0FE;\n",
              "      border: none;\n",
              "      border-radius: 50%;\n",
              "      cursor: pointer;\n",
              "      display: none;\n",
              "      fill: #1967D2;\n",
              "      height: 32px;\n",
              "      padding: 0 0 0 0;\n",
              "      width: 32px;\n",
              "    }\n",
              "\n",
              "    .colab-df-convert:hover {\n",
              "      background-color: #E2EBFA;\n",
              "      box-shadow: 0px 1px 2px rgba(60, 64, 67, 0.3), 0px 1px 3px 1px rgba(60, 64, 67, 0.15);\n",
              "      fill: #174EA6;\n",
              "    }\n",
              "\n",
              "    .colab-df-buttons div {\n",
              "      margin-bottom: 4px;\n",
              "    }\n",
              "\n",
              "    [theme=dark] .colab-df-convert {\n",
              "      background-color: #3B4455;\n",
              "      fill: #D2E3FC;\n",
              "    }\n",
              "\n",
              "    [theme=dark] .colab-df-convert:hover {\n",
              "      background-color: #434B5C;\n",
              "      box-shadow: 0px 1px 3px 1px rgba(0, 0, 0, 0.15);\n",
              "      filter: drop-shadow(0px 1px 2px rgba(0, 0, 0, 0.3));\n",
              "      fill: #FFFFFF;\n",
              "    }\n",
              "  </style>\n",
              "\n",
              "    <script>\n",
              "      const buttonEl =\n",
              "        document.querySelector('#df-060cec1d-5195-401c-a371-f45b5cb9ec42 button.colab-df-convert');\n",
              "      buttonEl.style.display =\n",
              "        google.colab.kernel.accessAllowed ? 'block' : 'none';\n",
              "\n",
              "      async function convertToInteractive(key) {\n",
              "        const element = document.querySelector('#df-060cec1d-5195-401c-a371-f45b5cb9ec42');\n",
              "        const dataTable =\n",
              "          await google.colab.kernel.invokeFunction('convertToInteractive',\n",
              "                                                    [key], {});\n",
              "        if (!dataTable) return;\n",
              "\n",
              "        const docLinkHtml = 'Like what you see? Visit the ' +\n",
              "          '<a target=\"_blank\" href=https://colab.research.google.com/notebooks/data_table.ipynb>data table notebook</a>'\n",
              "          + ' to learn more about interactive tables.';\n",
              "        element.innerHTML = '';\n",
              "        dataTable['output_type'] = 'display_data';\n",
              "        await google.colab.output.renderOutput(dataTable, element);\n",
              "        const docLink = document.createElement('div');\n",
              "        docLink.innerHTML = docLinkHtml;\n",
              "        element.appendChild(docLink);\n",
              "      }\n",
              "    </script>\n",
              "  </div>\n",
              "\n",
              "\n",
              "<div id=\"df-a2ce404e-6bd4-4db5-8558-1defb5c6f204\">\n",
              "  <button class=\"colab-df-quickchart\" onclick=\"quickchart('df-a2ce404e-6bd4-4db5-8558-1defb5c6f204')\"\n",
              "            title=\"Suggest charts.\"\n",
              "            style=\"display:none;\">\n",
              "\n",
              "<svg xmlns=\"http://www.w3.org/2000/svg\" height=\"24px\"viewBox=\"0 0 24 24\"\n",
              "     width=\"24px\">\n",
              "    <g>\n",
              "        <path d=\"M19 3H5c-1.1 0-2 .9-2 2v14c0 1.1.9 2 2 2h14c1.1 0 2-.9 2-2V5c0-1.1-.9-2-2-2zM9 17H7v-7h2v7zm4 0h-2V7h2v10zm4 0h-2v-4h2v4z\"/>\n",
              "    </g>\n",
              "</svg>\n",
              "  </button>\n",
              "\n",
              "<style>\n",
              "  .colab-df-quickchart {\n",
              "    background-color: #E8F0FE;\n",
              "    border: none;\n",
              "    border-radius: 50%;\n",
              "    cursor: pointer;\n",
              "    display: none;\n",
              "    fill: #1967D2;\n",
              "    height: 32px;\n",
              "    padding: 0 0 0 0;\n",
              "    width: 32px;\n",
              "  }\n",
              "\n",
              "  .colab-df-quickchart:hover {\n",
              "    background-color: #E2EBFA;\n",
              "    box-shadow: 0px 1px 2px rgba(60, 64, 67, 0.3), 0px 1px 3px 1px rgba(60, 64, 67, 0.15);\n",
              "    fill: #174EA6;\n",
              "  }\n",
              "\n",
              "  [theme=dark] .colab-df-quickchart {\n",
              "    background-color: #3B4455;\n",
              "    fill: #D2E3FC;\n",
              "  }\n",
              "\n",
              "  [theme=dark] .colab-df-quickchart:hover {\n",
              "    background-color: #434B5C;\n",
              "    box-shadow: 0px 1px 3px 1px rgba(0, 0, 0, 0.15);\n",
              "    filter: drop-shadow(0px 1px 2px rgba(0, 0, 0, 0.3));\n",
              "    fill: #FFFFFF;\n",
              "  }\n",
              "</style>\n",
              "\n",
              "  <script>\n",
              "    async function quickchart(key) {\n",
              "      const charts = await google.colab.kernel.invokeFunction(\n",
              "          'suggestCharts', [key], {});\n",
              "    }\n",
              "    (() => {\n",
              "      let quickchartButtonEl =\n",
              "        document.querySelector('#df-a2ce404e-6bd4-4db5-8558-1defb5c6f204 button');\n",
              "      quickchartButtonEl.style.display =\n",
              "        google.colab.kernel.accessAllowed ? 'block' : 'none';\n",
              "    })();\n",
              "  </script>\n",
              "</div>\n",
              "    </div>\n",
              "  </div>\n"
            ]
          },
          "metadata": {},
          "execution_count": 51
        }
      ]
    },
    {
      "cell_type": "code",
      "source": [
        "# Replace NaN values with the previous non-NaN value in the same column\n",
        "df_from_excel['ITEM'] = df_from_excel['ITEM'].fillna(method='ffill')"
      ],
      "metadata": {
        "id": "Sf96LPJgi-3X"
      },
      "execution_count": null,
      "outputs": []
    },
    {
      "cell_type": "code",
      "source": [
        "# Remove commas and convert to float\n",
        "for index, row in df_from_excel.iterrows():\n",
        "    if 'US$' in row['PRICE']:\n",
        "      df_from_excel.at[index, 'PRICE'] = row['PRICE'].replace('US$', '')\n",
        "    else:\n",
        "      continue"
      ],
      "metadata": {
        "id": "mP8ovLkDnpM3"
      },
      "execution_count": null,
      "outputs": []
    },
    {
      "cell_type": "code",
      "source": [
        "df_from_excel['Price'] = df_from_excel['Price'].astype(float)"
      ],
      "metadata": {
        "id": "MbxA4QWPkgsm"
      },
      "execution_count": null,
      "outputs": []
    },
    {
      "cell_type": "code",
      "source": [
        "df_from_excel['Availability'] = 'Subject to Change'"
      ],
      "metadata": {
        "id": "o72sk-8Q4hqi"
      },
      "execution_count": 3,
      "outputs": []
    },
    {
      "cell_type": "code",
      "source": [
        "df_from_excel.isna().sum()"
      ],
      "metadata": {
        "colab": {
          "base_uri": "https://localhost:8080/"
        },
        "id": "0VuE-mjoKQ15",
        "outputId": "c25fad3b-26e6-4944-aa71-88b3425887f1"
      },
      "execution_count": 4,
      "outputs": [
        {
          "output_type": "execute_result",
          "data": {
            "text/plain": [
              "Unnamed: 0      0\n",
              "Item            0\n",
              "Description     0\n",
              "Price           0\n",
              "Availability    0\n",
              "dtype: int64"
            ]
          },
          "metadata": {},
          "execution_count": 4
        }
      ]
    },
    {
      "cell_type": "code",
      "source": [
        "df_from_excel.drop(columns = ['Unnamed: 0'], inplace = True)"
      ],
      "metadata": {
        "id": "iVKajQ9EjP9U"
      },
      "execution_count": 5,
      "outputs": []
    },
    {
      "cell_type": "code",
      "source": [
        "from google.colab import drive\n",
        "drive.mount('/content/drive')"
      ],
      "metadata": {
        "colab": {
          "base_uri": "https://localhost:8080/"
        },
        "id": "phFCfXfDjdKr",
        "outputId": "bfba3a8f-6dd2-46f2-f3e7-ccdd24dc71ea"
      },
      "execution_count": 2,
      "outputs": [
        {
          "output_type": "stream",
          "name": "stdout",
          "text": [
            "Mounted at /content/drive\n"
          ]
        }
      ]
    },
    {
      "cell_type": "code",
      "source": [
        "#saving the table as csv\n",
        "df_from_excel.to_excel(\"/content/drive/MyDrive/projects/greentech/sunrayups.xlsx\")"
      ],
      "metadata": {
        "id": "DK2QuiHTyQdg"
      },
      "execution_count": 6,
      "outputs": []
    },
    {
      "cell_type": "code",
      "source": [],
      "metadata": {
        "id": "yMeR0ZpWKTqw"
      },
      "execution_count": null,
      "outputs": []
    }
  ]
}